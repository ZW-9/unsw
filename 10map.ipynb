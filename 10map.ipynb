{
  "nbformat": 4,
  "nbformat_minor": 0,
  "metadata": {
    "colab": {
      "provenance": [],
      "authorship_tag": "ABX9TyMRe88fRk93zxjy+QF2KwLy",
      "include_colab_link": true
    },
    "kernelspec": {
      "name": "python3",
      "display_name": "Python 3"
    },
    "language_info": {
      "name": "python"
    }
  },
  "cells": [
    {
      "cell_type": "markdown",
      "metadata": {
        "id": "view-in-github",
        "colab_type": "text"
      },
      "source": [
        "<a href=\"https://colab.research.google.com/github/ZW-9/unsw/blob/main/10map.ipynb\" target=\"_parent\"><img src=\"https://colab.research.google.com/assets/colab-badge.svg\" alt=\"Open In Colab\"/></a>"
      ]
    },
    {
      "cell_type": "code",
      "execution_count": null,
      "metadata": {
        "colab": {
          "base_uri": "https://localhost:8080/"
        },
        "id": "TbDIbjNojQM-",
        "outputId": "2d3d3df1-f217-471c-e170-6dd12c53a4ce"
      },
      "outputs": [
        {
          "output_type": "stream",
          "name": "stdout",
          "text": [
            "Requirement already satisfied: pandas in /usr/local/lib/python3.10/dist-packages (2.0.3)\n",
            "Requirement already satisfied: openpyxl in /usr/local/lib/python3.10/dist-packages (3.1.5)\n",
            "Requirement already satisfied: folium in /usr/local/lib/python3.10/dist-packages (0.14.0)\n",
            "Requirement already satisfied: python-dateutil>=2.8.2 in /usr/local/lib/python3.10/dist-packages (from pandas) (2.8.2)\n",
            "Requirement already satisfied: pytz>=2020.1 in /usr/local/lib/python3.10/dist-packages (from pandas) (2023.4)\n",
            "Requirement already satisfied: tzdata>=2022.1 in /usr/local/lib/python3.10/dist-packages (from pandas) (2024.1)\n",
            "Requirement already satisfied: numpy>=1.21.0 in /usr/local/lib/python3.10/dist-packages (from pandas) (1.25.2)\n",
            "Requirement already satisfied: et-xmlfile in /usr/local/lib/python3.10/dist-packages (from openpyxl) (1.1.0)\n",
            "Requirement already satisfied: branca>=0.6.0 in /usr/local/lib/python3.10/dist-packages (from folium) (0.7.2)\n",
            "Requirement already satisfied: jinja2>=2.9 in /usr/local/lib/python3.10/dist-packages (from folium) (3.1.4)\n",
            "Requirement already satisfied: requests in /usr/local/lib/python3.10/dist-packages (from folium) (2.31.0)\n",
            "Requirement already satisfied: MarkupSafe>=2.0 in /usr/local/lib/python3.10/dist-packages (from jinja2>=2.9->folium) (2.1.5)\n",
            "Requirement already satisfied: six>=1.5 in /usr/local/lib/python3.10/dist-packages (from python-dateutil>=2.8.2->pandas) (1.16.0)\n",
            "Requirement already satisfied: charset-normalizer<4,>=2 in /usr/local/lib/python3.10/dist-packages (from requests->folium) (3.3.2)\n",
            "Requirement already satisfied: idna<4,>=2.5 in /usr/local/lib/python3.10/dist-packages (from requests->folium) (3.7)\n",
            "Requirement already satisfied: urllib3<3,>=1.21.1 in /usr/local/lib/python3.10/dist-packages (from requests->folium) (2.0.7)\n",
            "Requirement already satisfied: certifi>=2017.4.17 in /usr/local/lib/python3.10/dist-packages (from requests->folium) (2024.7.4)\n"
          ]
        }
      ],
      "source": [
        "pip install pandas openpyxl folium"
      ]
    },
    {
      "cell_type": "code",
      "source": [
        "# View usage of holiday and non-holiday sites\n",
        "\n",
        "import pandas as pd\n",
        "import folium\n",
        "\n",
        "# Reading Excel files\n",
        "data = pd.read_excel('/content/holidaystation.xlsx')\n",
        "\n",
        "# Handling missing values (NaN)\n",
        "# Deletes rows with missing latitude and longitude\n",
        "data.dropna(subset=['Latitude', 'Longitude'], inplace=True)\n",
        "\n",
        "# Create a map\n",
        "m = folium.Map(location=[data['Latitude'].mean(), data['Longitude'].mean()], zoom_start=12)\n",
        "\n",
        "# Add site tag\n",
        "for index, row in data.iterrows():\n",
        "    folium.CircleMarker(\n",
        "        location=[row['Latitude'], row['Longitude']],\n",
        "        radius=row['trip_count'] / 1000000,  # Adjust the circle size according to the amount used\n",
        "        popup=f\"Station: {row['Station_Name']}\\nHoliday Type: {row['holiday_type']}\\nTrips: {row['trip_count']}\",\n",
        "        color='blue' if row['holiday_type'] == 'Holiday' else 'green',\n",
        "        fill=True,\n",
        "        fill_color='blue' if row['holiday_type'] == 'Holiday' else 'green'\n",
        "    ).add_to(m)\n",
        "\n",
        "# save the map\n",
        "m.save('holiday_station_usage_map.html')"
      ],
      "metadata": {
        "id": "2H3dBgodjiSt"
      },
      "execution_count": null,
      "outputs": []
    },
    {
      "cell_type": "code",
      "source": [
        "# View site usage on holidays only\n",
        "\n",
        "import pandas as pd\n",
        "import folium\n",
        "# #Reading Excel files\n",
        "data = pd.read_excel('/content/holidaystation.xlsx')\n",
        "\n",
        "# Handling missing values (NaN)\n",
        "# Deletes rows with missing latitude and longitude\n",
        "data.dropna(subset=['Latitude', 'Longitude'], inplace=True)\n",
        "\n",
        "# Filter only holiday data\n",
        "holiday_data = data[data['holiday_type'] == 'Holiday']\n",
        "\n",
        "# Create a map\n",
        "m = folium.Map(location=[holiday_data['Latitude'].mean(), holiday_data['Longitude'].mean()], zoom_start=12)\n",
        "\n",
        "# Add site tag\n",
        "for index, row in holiday_data.iterrows():\n",
        "    folium.CircleMarker(\n",
        "        location=[row['Latitude'], row['Longitude']],\n",
        "        radius=row['trip_count'] / 50000,  # Adjust the circle size according to the amount used, increasing the divisor appropriately\n",
        "        popup=f\"Station: {row['Station_Name']}\\nHoliday Type: {row['holiday_type']}\\nTrips: {row['trip_count']}\",\n",
        "        color='blue',\n",
        "        fill=True,\n",
        "        fill_color='blue'\n",
        "    ).add_to(m)\n",
        "\n",
        "# save the map\n",
        "m.save('only_holiday_station_usage_map1.html')"
      ],
      "metadata": {
        "id": "OWKccCtumd5Y"
      },
      "execution_count": null,
      "outputs": []
    }
  ]
}